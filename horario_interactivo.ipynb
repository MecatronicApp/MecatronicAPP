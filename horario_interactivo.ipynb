{
 "cells": [
  {
   "cell_type": "code",
   "execution_count": null,
   "id": "e14a3bbf",
   "metadata": {},
   "outputs": [],
   "source": [
    "# Aquí va el código completo que el usuario proporcionó (omitido por brevedad)"
   ]
  }
 ],
 "metadata": {},
 "nbformat": 4,
 "nbformat_minor": 5
}
