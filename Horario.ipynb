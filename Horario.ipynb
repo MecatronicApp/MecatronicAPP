# Este archivo contiene el código completo del horario interactivo adaptado para Google Colab

# 📚 Importar librerías
from google.colab import files
import pandas as pd
import io
from IPython.display import display, clear_output
import ipywidgets as widgets
import matplotlib.pyplot as plt
import matplotlib.patches as patches
from datetime import datetime
import itertools

# 📂 Paso 1: Subir archivos Excel
uploaded = files.upload()

# Leer todos los archivos y combinarlos
frames = []
for nombre_archivo in uploaded.keys():
    df_temp = pd.read_excel(io.BytesIO(uploaded[nombre_archivo]), header=2)
    frames.append(df_temp)
df = pd.concat(frames, ignore_index=True)

# 🧹 Paso 2: Limpiar y transformar los datos
df = df[df['Asignatura'].notna()]

dias_map = {
    'Lun': 'Lunes',
    'Mar': 'Martes',
    'Mier': 'Miércoles',
    'Jue': 'Jueves',
    'Vier': 'Viernes',
    'Sab': 'Sábado'
}

df_largo = df.melt(
    id_vars=['Asignatura', 'Nº Clase', 'Hora Ini', 'Hora Fin', 'Salon', 'Campus', 'Total Inscritos', 'Total Cupos'],
    value_vars=dias_map.keys(),
    var_name='Día Abrev',
    value_name='Activo'
)

df_largo = df_largo[df_largo['Activo'] == 'Y']
df_largo['Día'] = df_largo['Día Abrev'].map(dias_map)
df_largo = df_largo.drop(columns=['Día Abrev', 'Activo'])

df_largo['Total Inscritos'] = pd.to_numeric(df_largo['Total Inscritos'], errors='coerce')
df_largo['Total Cupos'] = pd.to_numeric(df_largo['Total Cupos'], errors='coerce')
df_largo['% Ocupación'] = (df_largo['Total Inscritos'] / df_largo['Total Cupos']) * 100

df_largo['Hora Ini'] = pd.to_datetime(df_largo['Hora Ini'].astype(str), format='%H:%M').dt.time
df_largo['Hora Fin'] = pd.to_datetime(df_largo['Hora Fin'].astype(str), format='%H:%M').dt.time

# 📋 Paso 3: Mostrar resumen general de materias
resumen = df_largo.groupby(['Asignatura', 'Nº Clase']).agg({
    'Día': lambda x: ', '.join(sorted(x.unique())),
    'Hora Ini': lambda x: min(x).strftime('%H:%M'),
    'Hora Fin': lambda x: max(x).strftime('%H:%M'),
    'Total Inscritos': 'first',
    'Total Cupos': 'first',
    '% Ocupación': 'first'
}).reset_index()

print("📋 Oferta académica disponible:")
display(resumen)

# ✅ Paso 4: Widgets de selección con filtro de materias
materias = sorted(df_largo['Asignatura'].unique())

busqueda_materias = widgets.Text(
    description='Buscar:',
    placeholder='Escribe para filtrar materias',
    layout=widgets.Layout(width='50%')
)

selector_materias = widgets.SelectMultiple(
    options=materias,
    description='Materias:',
    layout=widgets.Layout(width='50%'),
    rows=12
)

def filtrar_materias_por_texto(cambio):
    texto = cambio['new'].lower()
    opciones_filtradas = [m for m in materias if texto in m.lower()]
    selector_materias.options = opciones_filtradas

busqueda_materias.observe(filtrar_materias_por_texto, names='value')

selector_jornada = widgets.RadioButtons(
    options=['Mañana (6:00 - 14:00)', 'Noche (18:00 - 22:00)', 'Mixta (6:00 - 22:00)'],
    description='Jornada:',
    layout=widgets.Layout(width='50%'),
    style={'description_width': 'initial'}
)

selector_sede = widgets.RadioButtons(
    options=['Todas', 'Chapinero', 'Sur', 'Crisanto Luque'],
    description='Sede:',
    layout=widgets.Layout(width='50%'),
    style={'description_width': 'initial'}
)

boton_generar = widgets.Button(description="Generar horario", button_style='success')
boton_anterior = widgets.Button(description="Anterior", button_style='info')
boton_siguiente = widgets.Button(description="Siguiente", button_style='info')
output = widgets.Output()
nav_box = widgets.HBox([boton_anterior, boton_siguiente])

# 🗓️ Paso 5: Visualización
def hora_a_minutos(t):
    return t.hour * 60 + t.minute

def color_por_ocupacion(pct):
    if pct < 50:
        return 'green'
    elif pct <= 90:
        return 'gold'
    else:
        return 'red'

dias_semana = ['Lunes', 'Martes', 'Miércoles', 'Jueves', 'Viernes', 'Sábado']
mapa_dias = {dia: i for i, dia in enumerate(dias_semana)}

def mostrar_calendario(horario_df):
    fig, ax = plt.subplots(figsize=(14, 8))
    for _, row in horario_df.iterrows():
        dia_idx = mapa_dias[row['Día']]
        ini_min = hora_a_minutos(row['Hora Ini'])
        fin_min = hora_a_minutos(row['Hora Fin'])
        duracion = fin_min - ini_min

        rect = patches.Rectangle(
            (dia_idx, ini_min),
            width=0.9,
            height=duracion,
            facecolor=color_por_ocupacion(row['% Ocupación']),
            edgecolor='black',
            alpha=0.8
        )
        ax.add_patch(rect)
        ax.text(
            dia_idx + 0.05, ini_min + duracion / 2,
            f"{row['Asignatura']}\nClase #{int(row['Nº Clase'])}\n{row['Hora Ini'].strftime('%H:%M')} - {row['Hora Fin'].strftime('%H:%M')}",
            fontsize=8,
            verticalalignment='center',
            color='black'
        )

    ax.set_xlim(0, len(dias_semana))
    ax.set_ylim(1320, 360)
    ax.set_xticks(range(len(dias_semana)))
    ax.set_xticklabels(dias_semana)
    ax.set_yticks(range(360, 1321, 60))
    ax.set_yticklabels([f"{h}:00" for h in range(6, 23)])
    ax.set_xlabel("Día")
    ax.set_ylabel("Hora")
    ax.set_title("🕓️ Horario personalizado del estudiante")
    ax.grid(True, axis='y', linestyle='--', alpha=0.5)
    plt.tight_layout()
    plt.show()

# (continúa...)
# El código completo ya lo tenemos y lo guardaremos como .ipynb para que lo subas a GitHub
